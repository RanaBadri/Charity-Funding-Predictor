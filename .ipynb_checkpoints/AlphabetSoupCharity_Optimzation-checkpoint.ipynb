{
 "cells": [
  {
   "cell_type": "code",
   "execution_count": 5,
   "id": "ae9577e0",
   "metadata": {},
   "outputs": [
    {
     "name": "stdout",
     "output_type": "stream",
     "text": [
      "Collecting keras_tuner\n",
      "  Downloading keras_tuner-1.1.0-py3-none-any.whl (98 kB)\n",
      "Requirement already satisfied: scipy in c:\\users\\ranab\\appdata\\local\\programs\\python\\python39\\lib\\site-packages (from keras_tuner) (1.7.1)\n",
      "Collecting kt-legacy\n",
      "  Downloading kt_legacy-1.0.4-py3-none-any.whl (9.6 kB)\n",
      "Requirement already satisfied: numpy in c:\\users\\ranab\\appdata\\local\\programs\\python\\python39\\lib\\site-packages (from keras_tuner) (1.19.5)\n",
      "Requirement already satisfied: requests in c:\\users\\ranab\\appdata\\local\\programs\\python\\python39\\lib\\site-packages (from keras_tuner) (2.26.0)\n",
      "Requirement already satisfied: packaging in c:\\users\\ranab\\appdata\\local\\programs\\python\\python39\\lib\\site-packages (from keras_tuner) (21.0)\n",
      "Requirement already satisfied: ipython in c:\\users\\ranab\\appdata\\local\\programs\\python\\python39\\lib\\site-packages (from keras_tuner) (7.25.0)\n",
      "Requirement already satisfied: tensorboard in c:\\users\\ranab\\appdata\\local\\programs\\python\\python39\\lib\\site-packages (from keras_tuner) (2.7.0)\n",
      "Requirement already satisfied: colorama in c:\\users\\ranab\\appdata\\local\\programs\\python\\python39\\lib\\site-packages (from ipython->keras_tuner) (0.4.4)\n",
      "Requirement already satisfied: backcall in c:\\users\\ranab\\appdata\\local\\programs\\python\\python39\\lib\\site-packages (from ipython->keras_tuner) (0.2.0)\n",
      "Requirement already satisfied: pickleshare in c:\\users\\ranab\\appdata\\local\\programs\\python\\python39\\lib\\site-packages (from ipython->keras_tuner) (0.7.5)\n",
      "Requirement already satisfied: jedi>=0.16 in c:\\users\\ranab\\appdata\\local\\programs\\python\\python39\\lib\\site-packages (from ipython->keras_tuner) (0.18.0)\n",
      "Requirement already satisfied: decorator in c:\\users\\ranab\\appdata\\local\\programs\\python\\python39\\lib\\site-packages (from ipython->keras_tuner) (5.0.9)\n",
      "Requirement already satisfied: pygments in c:\\users\\ranab\\appdata\\local\\programs\\python\\python39\\lib\\site-packages (from ipython->keras_tuner) (2.9.0)\n",
      "Requirement already satisfied: traitlets>=4.2 in c:\\users\\ranab\\appdata\\local\\programs\\python\\python39\\lib\\site-packages (from ipython->keras_tuner) (5.0.5)\n",
      "Requirement already satisfied: matplotlib-inline in c:\\users\\ranab\\appdata\\local\\programs\\python\\python39\\lib\\site-packages (from ipython->keras_tuner) (0.1.2)\n",
      "Requirement already satisfied: setuptools>=18.5 in c:\\users\\ranab\\appdata\\local\\programs\\python\\python39\\lib\\site-packages (from ipython->keras_tuner) (57.4.0)\n",
      "Requirement already satisfied: prompt-toolkit!=3.0.0,!=3.0.1,<3.1.0,>=2.0.0 in c:\\users\\ranab\\appdata\\local\\programs\\python\\python39\\lib\\site-packages (from ipython->keras_tuner) (3.0.19)\n",
      "Requirement already satisfied: parso<0.9.0,>=0.8.0 in c:\\users\\ranab\\appdata\\local\\programs\\python\\python39\\lib\\site-packages (from jedi>=0.16->ipython->keras_tuner) (0.8.2)\n",
      "Requirement already satisfied: wcwidth in c:\\users\\ranab\\appdata\\local\\programs\\python\\python39\\lib\\site-packages (from prompt-toolkit!=3.0.0,!=3.0.1,<3.1.0,>=2.0.0->ipython->keras_tuner) (0.2.5)\n",
      "Requirement already satisfied: ipython-genutils in c:\\users\\ranab\\appdata\\local\\programs\\python\\python39\\lib\\site-packages (from traitlets>=4.2->ipython->keras_tuner) (0.2.0)\n",
      "Requirement already satisfied: pyparsing>=2.0.2 in c:\\users\\ranab\\appdata\\local\\programs\\python\\python39\\lib\\site-packages (from packaging->keras_tuner) (2.4.7)\n",
      "Requirement already satisfied: idna<4,>=2.5 in c:\\users\\ranab\\appdata\\local\\programs\\python\\python39\\lib\\site-packages (from requests->keras_tuner) (3.2)\n",
      "Requirement already satisfied: charset-normalizer~=2.0.0 in c:\\users\\ranab\\appdata\\local\\programs\\python\\python39\\lib\\site-packages (from requests->keras_tuner) (2.0.4)\n",
      "Requirement already satisfied: certifi>=2017.4.17 in c:\\users\\ranab\\appdata\\local\\programs\\python\\python39\\lib\\site-packages (from requests->keras_tuner) (2021.5.30)\n",
      "Requirement already satisfied: urllib3<1.27,>=1.21.1 in c:\\users\\ranab\\appdata\\local\\programs\\python\\python39\\lib\\site-packages (from requests->keras_tuner) (1.26.6)\n",
      "Requirement already satisfied: grpcio>=1.24.3 in c:\\users\\ranab\\appdata\\local\\programs\\python\\python39\\lib\\site-packages (from tensorboard->keras_tuner) (1.41.1)\n",
      "Requirement already satisfied: absl-py>=0.4 in c:\\users\\ranab\\appdata\\local\\programs\\python\\python39\\lib\\site-packages (from tensorboard->keras_tuner) (1.0.0)\n",
      "Requirement already satisfied: google-auth-oauthlib<0.5,>=0.4.1 in c:\\users\\ranab\\appdata\\local\\programs\\python\\python39\\lib\\site-packages (from tensorboard->keras_tuner) (0.4.6)\n",
      "Requirement already satisfied: google-auth<3,>=1.6.3 in c:\\users\\ranab\\appdata\\local\\programs\\python\\python39\\lib\\site-packages (from tensorboard->keras_tuner) (2.3.2)\n",
      "Requirement already satisfied: werkzeug>=0.11.15 in c:\\users\\ranab\\appdata\\local\\programs\\python\\python39\\lib\\site-packages (from tensorboard->keras_tuner) (2.0.1)\n",
      "Requirement already satisfied: tensorboard-data-server<0.7.0,>=0.6.0 in c:\\users\\ranab\\appdata\\local\\programs\\python\\python39\\lib\\site-packages (from tensorboard->keras_tuner) (0.6.1)\n",
      "Requirement already satisfied: tensorboard-plugin-wit>=1.6.0 in c:\\users\\ranab\\appdata\\local\\programs\\python\\python39\\lib\\site-packages (from tensorboard->keras_tuner) (1.8.0)\n",
      "Requirement already satisfied: markdown>=2.6.8 in c:\\users\\ranab\\appdata\\local\\programs\\python\\python39\\lib\\site-packages (from tensorboard->keras_tuner) (3.3.4)\n",
      "Requirement already satisfied: protobuf>=3.6.0 in c:\\users\\ranab\\appdata\\local\\programs\\python\\python39\\lib\\site-packages (from tensorboard->keras_tuner) (3.19.0)\n",
      "Requirement already satisfied: wheel>=0.26 in c:\\users\\ranab\\appdata\\local\\programs\\python\\python39\\lib\\site-packages (from tensorboard->keras_tuner) (0.37.0)\n",
      "Requirement already satisfied: six in c:\\users\\ranab\\appdata\\local\\programs\\python\\python39\\lib\\site-packages (from absl-py>=0.4->tensorboard->keras_tuner) (1.15.0)\n",
      "Requirement already satisfied: pyasn1-modules>=0.2.1 in c:\\users\\ranab\\appdata\\local\\programs\\python\\python39\\lib\\site-packages (from google-auth<3,>=1.6.3->tensorboard->keras_tuner) (0.2.8)\n",
      "Requirement already satisfied: rsa<5,>=3.1.4 in c:\\users\\ranab\\appdata\\local\\programs\\python\\python39\\lib\\site-packages (from google-auth<3,>=1.6.3->tensorboard->keras_tuner) (4.7.2)\n",
      "Requirement already satisfied: cachetools<5.0,>=2.0.0 in c:\\users\\ranab\\appdata\\local\\programs\\python\\python39\\lib\\site-packages (from google-auth<3,>=1.6.3->tensorboard->keras_tuner) (4.2.4)\n",
      "Requirement already satisfied: requests-oauthlib>=0.7.0 in c:\\users\\ranab\\appdata\\local\\programs\\python\\python39\\lib\\site-packages (from google-auth-oauthlib<0.5,>=0.4.1->tensorboard->keras_tuner) (1.3.0)\n",
      "Requirement already satisfied: pyasn1<0.5.0,>=0.4.6 in c:\\users\\ranab\\appdata\\local\\programs\\python\\python39\\lib\\site-packages (from pyasn1-modules>=0.2.1->google-auth<3,>=1.6.3->tensorboard->keras_tuner) (0.4.8)\n",
      "Requirement already satisfied: oauthlib>=3.0.0 in c:\\users\\ranab\\appdata\\local\\programs\\python\\python39\\lib\\site-packages (from requests-oauthlib>=0.7.0->google-auth-oauthlib<0.5,>=0.4.1->tensorboard->keras_tuner) (3.1.1)\n",
      "Installing collected packages: kt-legacy, keras-tuner\n",
      "Successfully installed keras-tuner-1.1.0 kt-legacy-1.0.4\n"
     ]
    },
    {
     "name": "stderr",
     "output_type": "stream",
     "text": [
      "WARNING: You are using pip version 21.2.4; however, version 21.3.1 is available.\n",
      "You should consider upgrading via the 'c:\\users\\ranab\\appdata\\local\\programs\\python\\python39\\python.exe -m pip install --upgrade pip' command.\n"
     ]
    }
   ],
   "source": [
    "! pip install keras_tuner"
   ]
  },
  {
   "cell_type": "code",
   "execution_count": 3,
   "id": "15303687",
   "metadata": {},
   "outputs": [
    {
     "ename": "ModuleNotFoundError",
     "evalue": "No module named 'keras_tuner'",
     "output_type": "error",
     "traceback": [
      "\u001b[1;31m---------------------------------------------------------------------------\u001b[0m",
      "\u001b[1;31mModuleNotFoundError\u001b[0m                       Traceback (most recent call last)",
      "\u001b[1;32m~\\AppData\\Local\\Temp/ipykernel_24280/2016804453.py\u001b[0m in \u001b[0;36m<module>\u001b[1;34m\u001b[0m\n\u001b[0;32m      7\u001b[0m \u001b[1;31m#  Import and read the charity_data.csv.\u001b[0m\u001b[1;33m\u001b[0m\u001b[1;33m\u001b[0m\u001b[0m\n\u001b[0;32m      8\u001b[0m \u001b[1;32mimport\u001b[0m \u001b[0mpandas\u001b[0m \u001b[1;32mas\u001b[0m \u001b[0mpd\u001b[0m\u001b[1;33m\u001b[0m\u001b[1;33m\u001b[0m\u001b[0m\n\u001b[1;32m----> 9\u001b[1;33m \u001b[1;32mimport\u001b[0m \u001b[0mkeras_tuner\u001b[0m \u001b[1;32mas\u001b[0m \u001b[0mkt\u001b[0m\u001b[1;33m\u001b[0m\u001b[1;33m\u001b[0m\u001b[0m\n\u001b[0m\u001b[0;32m     10\u001b[0m \u001b[0mapplication_df\u001b[0m \u001b[1;33m=\u001b[0m \u001b[0mpd\u001b[0m\u001b[1;33m.\u001b[0m\u001b[0mread_csv\u001b[0m\u001b[1;33m(\u001b[0m\u001b[1;34m\"/Resources/charity_data.csv\"\u001b[0m\u001b[1;33m)\u001b[0m\u001b[1;33m\u001b[0m\u001b[1;33m\u001b[0m\u001b[0m\n\u001b[0;32m     11\u001b[0m \u001b[0mapplication_df\u001b[0m\u001b[1;33m.\u001b[0m\u001b[0mhead\u001b[0m\u001b[1;33m(\u001b[0m\u001b[1;33m)\u001b[0m\u001b[1;33m\u001b[0m\u001b[1;33m\u001b[0m\u001b[0m\n",
      "\u001b[1;31mModuleNotFoundError\u001b[0m: No module named 'keras_tuner'"
     ]
    }
   ],
   "source": [
    "# Import our dependencies\n",
    "from sklearn.model_selection import train_test_split\n",
    "from sklearn.preprocessing import StandardScaler\n",
    "import pandas as pd\n",
    "import tensorflow as tf\n",
    "\n",
    "#  Import and read the charity_data.csv.\n",
    "import pandas as pd \n",
    "import keras_tuner as kt\n",
    "application_df = pd.read_csv(\"/Resources/charity_data.csv\")\n",
    "application_df.head()"
   ]
  },
  {
   "cell_type": "code",
   "execution_count": null,
   "id": "fc5198a8",
   "metadata": {},
   "outputs": [],
   "source": []
  },
  {
   "cell_type": "code",
   "execution_count": null,
   "id": "1c727616",
   "metadata": {},
   "outputs": [],
   "source": []
  }
 ],
 "metadata": {
  "kernelspec": {
   "display_name": "Python 3 (ipykernel)",
   "language": "python",
   "name": "python3"
  },
  "language_info": {
   "codemirror_mode": {
    "name": "ipython",
    "version": 3
   },
   "file_extension": ".py",
   "mimetype": "text/x-python",
   "name": "python",
   "nbconvert_exporter": "python",
   "pygments_lexer": "ipython3",
   "version": "3.9.7"
  }
 },
 "nbformat": 4,
 "nbformat_minor": 5
}
